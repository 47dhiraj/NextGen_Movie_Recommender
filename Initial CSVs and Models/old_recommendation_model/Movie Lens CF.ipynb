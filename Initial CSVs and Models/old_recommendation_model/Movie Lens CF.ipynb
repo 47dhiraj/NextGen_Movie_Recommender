{
 "cells": [
  {
   "cell_type": "code",
   "execution_count": 1,
   "metadata": {},
   "outputs": [],
   "source": [
    "import pandas as pd\n",
    "import joblib\n",
    "import time\n",
    "import feather"
   ]
  },
  {
   "cell_type": "code",
   "execution_count": 2,
   "metadata": {},
   "outputs": [],
   "source": [
    "# ratings = pd.read_csv('ratings.csv')\n",
    "# movies = pd.read_csv('movies.csv')\n",
    "# # posters = pd.read_csv('movie_posters.csv',header=None,names=['movieId','poster_url'],index_col=0)\n",
    "# ratings = pd.merge(movies,ratings).drop(['genres','timestamp'],axis=1)  # hamile garna lageko collaborative filtering chai user ko rating ko basis ma ho.. so hamilai genres and timestamp column ko khassai use nahune vayera.. tyo columns lai drop gareko ho\n",
    "# # ratings.head()"
   ]
  },
  {
   "cell_type": "code",
   "execution_count": 3,
   "metadata": {},
   "outputs": [],
   "source": [
    "# user_ratings = ratings.pivot_table(index=['userId'],columns=['title'],values='rating')\n",
    "# # user_ratings.head()"
   ]
  },
  {
   "cell_type": "code",
   "execution_count": 4,
   "metadata": {},
   "outputs": [],
   "source": [
    "# # Let's Remove Movies which have less than 10 users who rated it. and fill remaining NaN with 0\n",
    "# user_ratings = user_ratings.dropna(thresh=5,axis=1).fillna(0)        # dropna(thresh=10,axis=1) --> yesko kaam vaneko,  jun column (i.e movie) ma 10 vanda kam users le rating deko xa.. testo column (axis=1 vannale column bujinxa) lai drop gar vaneko  & again,  fillna(0) ko kaam vaneko column drop gari sake paxi jati column bachxa .. bacheko column ma pani NaN value tw huna saki halxa.. so tyo NaN value lai 0 le replace garni vaneko... hamile Toy dataset ma 0 re place gare jastai ho  \n",
    "# # user_ratings.head()\n"
   ]
  },
  {
   "cell_type": "code",
   "execution_count": 5,
   "metadata": {},
   "outputs": [],
   "source": [
    "# # Let's Build our Similarity Matrix\n",
    "# item_similarity_df = user_ratings.corr(method='pearson')         # Applying Pearson Correlation method    # Toy dataset ma cosine similarity use garda .. standardize method use garera 0 value lai hatauna ko lagi jasto chai yo Pearson Correlation ma garna pardaina.. i.e Pearson correlation method le automatically adjust for the mean.. so we dont have to apply our standardize method over here...\n",
    "# # item_similarity_df.to_csv(r'item_similarity_df.csv')\n",
    "# # item_similarity_df.head(50)\n",
    "\n",
    "# # start = time.time()\n",
    "# # item_similarity_df = pd.read_csv('item_similarity_df.csv', index_col = 0)"
   ]
  },
  {
   "cell_type": "code",
   "execution_count": 6,
   "metadata": {},
   "outputs": [],
   "source": [
    "# joblib.dump(item_similarity_df,\"item_similarity_df\")"
   ]
  },
  {
   "cell_type": "code",
   "execution_count": 7,
   "metadata": {},
   "outputs": [],
   "source": [
    "# start = time.time()\n",
    "# item_similarity_df = joblib.load('item_similarity_df')\n",
    "# # item_similarity_df.head(10)\n"
   ]
  },
  {
   "cell_type": "code",
   "execution_count": 8,
   "metadata": {},
   "outputs": [],
   "source": [
    "# path = 'item_similarity_df.feather'\n",
    "# # feather.write_dataframe(item_similarity_df, path)\n"
   ]
  },
  {
   "cell_type": "code",
   "execution_count": 9,
   "metadata": {},
   "outputs": [],
   "source": [
    "# start = time.time()\n",
    "\n",
    "# item_similarity_df = feather.read_dataframe(path)\n",
    "# item_similarity_df.index = item_similarity_df.columns\n",
    "# item_similarity_df.head(10)\n",
    "# # item_similarity_df.shape"
   ]
  },
  {
   "cell_type": "code",
   "execution_count": 10,
   "metadata": {},
   "outputs": [],
   "source": [
    "# item_similarity_df.to_pickle('item_similarity_df.pkl')\n"
   ]
  },
  {
   "cell_type": "code",
   "execution_count": 11,
   "metadata": {},
   "outputs": [],
   "source": [
    "start = time.time()\n",
    "item_similarity_df = pd.read_pickle('item_similarity_df.pkl')"
   ]
  },
  {
   "cell_type": "code",
   "execution_count": 12,
   "metadata": {},
   "outputs": [],
   "source": [
    "def get_similar_movies(movie_name,user_rating):                      # get_similar_movies() vanni chai method ho which accepts movie name ans user rating as parameters\n",
    "    similar_score = item_similarity_df[movie_name]*(user_rating-2.5)\n",
    "    similar_score = similar_score.sort_values(ascending=False)\n",
    "    return similar_score                                            # get_similar_movies()  method return similar_score or similar movies"
   ]
  },
  {
   "cell_type": "code",
   "execution_count": 13,
   "metadata": {
    "scrolled": true
   },
   "outputs": [
    {
     "name": "stdout",
     "output_type": "stream",
     "text": [
      "Edge of Tomorrow \t\t\t\t\t 1.490066466209368\n",
      "Star Wars Episode VII - The Force Awakens \t\t\t\t\t 1.4656096685046793\n",
      "Mad Max Fury Road \t\t\t\t\t 1.4275283497648865\n",
      "The Revenant \t\t\t\t\t 1.374161952233354\n",
      "Deadpool \t\t\t\t\t 1.3220778660706474\n",
      "Snowpiercer \t\t\t\t\t 1.3140342586257125\n",
      "Interstellar \t\t\t\t\t 1.2528445608949355\n",
      "Skyfall \t\t\t\t\t 1.2117635082365217\n",
      "Spotlight \t\t\t\t\t 1.1985018421004314\n",
      "10 Cloverfield Lane \t\t\t\t\t 1.193338941574142\n",
      "The Wolf of Wall Street \t\t\t\t\t 1.1825362347544175\n",
      "John Wick \t\t\t\t\t 1.1399885466789912\n",
      "Rogue One A Star Wars Story \t\t\t\t\t 1.1348907855460508\n",
      "Guardians of the Galaxy \t\t\t\t\t 1.1339901548955529\n",
      "The Grand Budapest Hotel \t\t\t\t\t 1.1308074342770091\n",
      "Ant-Man \t\t\t\t\t 1.1298879743003838\n",
      "The Imitation Game \t\t\t\t\t 1.12650028391303\n",
      "Kingsman The Secret Service \t\t\t\t\t 1.1048065255034951\n",
      "The Avengers \t\t\t\t\t 1.0887407463738363\n",
      "Ex Machina \t\t\t\t\t 1.0830124137406292\n",
      "Star Trek Beyond \t\t\t\t\t 1.0797226255786547\n",
      "Moonrise Kingdom \t\t\t\t\t 1.0784128448456187\n",
      "Prometheus \t\t\t\t\t 1.0651192450423599\n",
      "Inception \t\t\t\t\t 1.0623438801652623\n",
      "Gravity \t\t\t\t\t 1.058449302645275\n",
      "Looper \t\t\t\t\t 1.0545285947133778\n",
      "The Hateful Eight \t\t\t\t\t 1.048882401695129\n",
      "The Dark Knight Rises \t\t\t\t\t 1.047806095584784\n",
      "Life of Pi \t\t\t\t\t 1.0406237148416868\n",
      "Drive \t\t\t\t\t 1.0396480942409398\n",
      "Arrival \t\t\t\t\t 1.0396338517385586\n",
      "Cloud Atlas \t\t\t\t\t 1.0284296285367298\n",
      "District 9 \t\t\t\t\t 1.022843506094324\n",
      "Dredd \t\t\t\t\t 1.0206560957294257\n",
      "The Wolverine \t\t\t\t\t 1.0134875707478777\n",
      "Jurassic World \t\t\t\t\t 1.0057707529434592\n",
      "Time Taken:  0.09897017478942871\n"
     ]
    }
   ],
   "source": [
    "\n",
    "\n",
    "def check_seen(movie, seen_movies):\n",
    "    for item in seen_movies:\n",
    "        if item == movie:\n",
    "            return True\n",
    "\n",
    "    return False\n",
    "\n",
    "name = ['The Martian']\n",
    "scifi_lover = [(\"The Martian\", 5)]\n",
    "# #romantic_lover = [(\"Titanic (1997)\",5),(\"Up (2009)\",4),(\"Up (2009)\",4),(\"Kung Fu Panda (2008)\",4)]\n",
    "\n",
    "similar_movies = pd.DataFrame()         # Empty datafram banayeko\n",
    "\n",
    "for movie,rating in scifi_lover:\n",
    "    similar_movies = similar_movies.append(get_similar_movies(movie,rating),ignore_index=True)\n",
    "\n",
    "all_recommend = similar_movies.sum().sort_values(ascending=False)\n",
    " \n",
    " \n",
    "\n",
    "i = 0\n",
    "for movie, score in all_recommend.iteritems():\n",
    "    if not check_seen(movie, name):\n",
    "        print(movie,'\\t\\t\\t\\t\\t',  score)\n",
    "\n",
    "    i = i + 1\n",
    "    if i >= 36 + len(name):\n",
    "        break\n",
    "\n",
    "end = time.time()\n",
    "\n",
    "print(\"Time Taken: \", end-start)\n"
   ]
  }
 ],
 "metadata": {
  "kernelspec": {
   "display_name": "jupyter_env_kernel",
   "language": "python",
   "name": "jupyter_env_kernel"
  },
  "language_info": {
   "codemirror_mode": {
    "name": "ipython",
    "version": 3
   },
   "file_extension": ".py",
   "mimetype": "text/x-python",
   "name": "python",
   "nbconvert_exporter": "python",
   "pygments_lexer": "ipython3",
   "version": "3.9.4"
  }
 },
 "nbformat": 4,
 "nbformat_minor": 2
}
